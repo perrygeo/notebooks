{
 "cells": [
  {
   "cell_type": "markdown",
   "metadata": {},
   "source": [
    "# Intro to Open Source Python Geospatial Workshop"
   ]
  },
  {
   "cell_type": "markdown",
   "metadata": {},
   "source": [
    "This workshop introduces the ecosystem of open source Python tools for working with geospatial data.\n",
    "\n",
    "* The Python software libraries available for working with vector and raster datasets.\n",
    "* The basic usage of these libraries to conduct a complete GIS analysis.\n",
    "* Additional resources for expanding your knowledge of these tools."
   ]
  },
  {
   "cell_type": "markdown",
   "metadata": {},
   "source": [
    "## Table of Contents\n",
    "\n",
    "1. Introduction\n",
    "2. Working with Vector data\n",
    "3. Working with Raster data\n",
    "4. Working with Tabular data\n",
    "5. Analysis\n",
    "6. Web services"
   ]
  },
  {
   "cell_type": "markdown",
   "metadata": {},
   "source": [
    "## Introduction\n",
    "\n",
    "### Audience\n",
    "\n",
    "This workshop is intended for the beginner-to-intermediate Python programmer familiar with basic concepts from Geographic Information Systems (GIS). \n",
    "\n",
    "Before starting, you should be familiar with **Python** concepts such as:\n",
    "\n",
    "* Writing and running python scripts\n",
    "* Importing libraries\n",
    "* Writing functions\n",
    "* Using the builtin data structures, particularly Python's `list` and `dictionary`\n",
    "* Looping over lists with `for` and list comprehensions\n",
    "* Familiarity with `numpy` arrays\n",
    "\n",
    "An understanding of **GIS concepts** will be helpful, though they will be explained briefly in each section below. This includes:\n",
    "\n",
    "* The fundamental differences between raster and vector data model\n",
    "* Analysis techniques for raster and vector data\n",
    "* Familiarity with spatial referencing systems (projections, datums)\n",
    "* Basic statsitics"
   ]
  },
  {
   "cell_type": "markdown",
   "metadata": {},
   "source": [
    "### Format\n",
    "\n",
    "This workshop uses a [Jupyter Notebook](https://jupyter.org/) to provide an interactive environment for editing both Python code and supporting notes/documentation. \n",
    "\n",
    "> The Jupyter Notebook is an open-source web application that allows you to create and share documents that contain live code, equations, visualizations and narrative text. Uses include: data cleaning and transformation, numerical simulation, statistical modeling, data visualization, machine learning, and much more.\n",
    "\n",
    "Notebooks are an increasingly popular and important part of research and data analysis in both academia and industry. The advantages over traditional Desktop GIS workflows are significant:\n",
    "\n",
    "* Reproducible\n",
    "* Documentation and Code live together\n",
    "* Seamless publishing and collaboration\n",
    "* Integrated Development Environment (IDE) for analysis\n",
    "\n",
    "Importantly, we can use the notebook in our web browser - no special tools or installation is required on your machine."
   ]
  },
  {
   "cell_type": "markdown",
   "metadata": {},
   "source": [
    "### Case Study\n",
    "\n",
    "\n",
    "The primary question we will be exploring is:\n",
    "\n",
    "> How might countries' annual precipiation total be affected by climate change?\n",
    "\n",
    "We'll use climate model data from [WorldClim](http://www.worldclim.org/version1) to determine the change in precipitation predicted from present day averages to predicted 2070 averages due to climate change. This data will be aggregated to country data from the [Natural Earth](http://www.naturalearthdata.com/downloads/50m-cultural-vectors/) dataset.\n",
    "\n",
    "The methods I use here are not valid scientific research, It's simply an exploratory analysis to demonstrate the analysis techniques provided by the software."
   ]
  },
  {
   "cell_type": "markdown",
   "metadata": {},
   "source": [
    "### Introducing our Python libraries\n",
    "\n",
    "Below is a list of the python libraries we'll be using. All of them are open source - freely available and redistributable with no licensing fees. You'll find more information in the respective links below:\n",
    "\n",
    "* [Rasterio](https://github.com/mapbox/rasterio) - Raster data\n",
    "* [Fiona](https://github.com/Toblerity/Fiona) - Vector data\n",
    "* [Shapely](https://github.com/Toblerity/Shapely) - 2D Geometries\n",
    "* [Numpy](http://www.numpy.org/) - Multidimensional Arrays\n",
    "* [Pandas](https://pandas.pydata.org/) - Tabular data (i.e. spreadsheets)\n",
    "* [GeoPandas](http://geopandas.org/) - Pandas extension for vector data analysis\n",
    "* [Rasterstats](https://github.com/perrygeo/python-rasterstats) - Zonal Statistics\n",
    "* [MapboxGL](https://github.com/mapbox/mapboxgl-jupyter) - Visualizing vector data in the notebook\n",
    "* [MapboxSDK](https://github.com/mapbox/mapbox-sdk-py) - Accessing Mapbox web services\n",
    "\n",
    "These have already been installed on the notebook server; We'll start off by **import**ing them"
   ]
  },
  {
   "cell_type": "code",
   "execution_count": null,
   "metadata": {},
   "outputs": [],
   "source": [
    "import rasterio\n",
    "import shapely\n",
    "import fiona\n",
    "import numpy as np\n",
    "import geopandas\n",
    "import pandas\n",
    "import rasterstats\n",
    "import mapboxgl\n",
    "import mapbox\n",
    "import seaborn\n",
    "\n",
    "import warnings\n",
    "warnings.simplefilter('ignore')\n",
    "%pylab inline"
   ]
  },
  {
   "cell_type": "markdown",
   "metadata": {},
   "source": [
    "## Working with Vector Data\n",
    "\n",
    "### The vector data model\n",
    "\n",
    "Vector data represents discrete objects in our world using **geometries** (points, lines, and polygons) referenced to the earth using a coordinate reference system. These discrete geometries are typically paired with **properties** (also called \"attributes\") which provide extra information about it. Together, the geometry and properties form a **Feature**. For example: a line geometry representing a road plus the road name gives us a vector feature. A dataset containing multiple features is known as a **Feature Collection**.\n",
    "\n",
    "\n",
    "[GeoJSON](http://geojson.org/) is a specification for encoding vector data for use on the web. It provides a human-readable representation of vector data that illustrates how most Python tools conceptually handle features:\n",
    "\n",
    "```json\n",
    "{\n",
    "  \"type\": \"Feature\",\n",
    "  \"geometry\": {\n",
    "    \"type\": \"Point\",\n",
    "    \"coordinates\": [-107.3319, 38.2649]\n",
    "  },\n",
    "  \"properties\": {\n",
    "    \"name\": \"Bridge 400-5\"\n",
    "    \"year\": 1978\n",
    "  }\n",
    "}\n",
    "```"
   ]
  },
  {
   "cell_type": "markdown",
   "metadata": {},
   "source": [
    "### Reading vector data files\n",
    "\n",
    "The most ubiquitous and widely-supported format for distributing and storing spatial data is the [ESRI Shapefile](https://en.wikipedia.org/wiki/Shapefile). We'll start by loading our County polygon features from a shapefile using the **Fiona** library."
   ]
  },
  {
   "cell_type": "code",
   "execution_count": null,
   "metadata": {},
   "outputs": [],
   "source": [
    "fiona.drvsupport.supported_drivers"
   ]
  },
  {
   "cell_type": "code",
   "execution_count": null,
   "metadata": {},
   "outputs": [],
   "source": [
    "# read one and inspect\n",
    "with fiona.open('data/countries/ne_50m_admin_0_countries.shp') as shp:\n",
    "    collection = list(shp)\n",
    "    profile = shp.profile\n",
    "    \n",
    "len(collection)"
   ]
  },
  {
   "cell_type": "code",
   "execution_count": null,
   "metadata": {},
   "outputs": [],
   "source": [
    "country = collection[106]\n",
    "\n",
    "country['properties']['NAME']"
   ]
  },
  {
   "cell_type": "code",
   "execution_count": null,
   "metadata": {},
   "outputs": [],
   "source": [
    "(country['properties']['GDP_MD_EST'] * 1000000) / country['properties']['POP_EST']"
   ]
  },
  {
   "cell_type": "markdown",
   "metadata": {},
   "source": [
    "### Working with Features\n",
    "\n",
    "The geometry portion of the Feature is a list of coordinate pairs - an accurate representation but in order perform geometry manipulations, overlays or spatial relationships, we need to use **Shapely**"
   ]
  },
  {
   "cell_type": "code",
   "execution_count": null,
   "metadata": {},
   "outputs": [],
   "source": [
    "# convert geometry to a shapely shape\n",
    "shape = shapely.geometry.shape(country['geometry'])\n",
    "shape"
   ]
  },
  {
   "cell_type": "markdown",
   "metadata": {},
   "source": [
    "What can we do with these Shapely geometry objects? For single shapes, we have a number of *Unary Predicates* to describe the shape. For example, we could calculate the area (in this case, decimal degrees is not useful but Shapely is agnostic to the projection)"
   ]
  },
  {
   "cell_type": "code",
   "execution_count": null,
   "metadata": {},
   "outputs": [],
   "source": [
    "shape.area"
   ]
  },
  {
   "cell_type": "code",
   "execution_count": null,
   "metadata": {},
   "outputs": [],
   "source": [
    "shape.convex_hull"
   ]
  },
  {
   "cell_type": "code",
   "execution_count": null,
   "metadata": {},
   "outputs": [],
   "source": [
    "shape.centroid.wkt"
   ]
  },
  {
   "cell_type": "markdown",
   "metadata": {},
   "source": [
    "There are also a number of *Binary Predicates* and *Spatial Analyses* that allow you to explore the spatial relationships between two geometries, perform overlay analysis, etc."
   ]
  },
  {
   "cell_type": "code",
   "execution_count": null,
   "metadata": {},
   "outputs": [],
   "source": [
    "country2 = collection[39]\n",
    "print(country2['properties']['NAME'])\n",
    "\n",
    "# geometry -> shapely shape\n",
    "shape2 = shapely.geometry.shape(country2['geometry'])\n",
    "shape2"
   ]
  },
  {
   "cell_type": "code",
   "execution_count": null,
   "metadata": {},
   "outputs": [],
   "source": [
    "shapely.geometry.collection.GeometryCollection([\n",
    "    shape, shape2\n",
    "])"
   ]
  },
  {
   "cell_type": "code",
   "execution_count": null,
   "metadata": {},
   "outputs": [],
   "source": [
    "# Do they touch?\n",
    "shape.touches(shape2)"
   ]
  },
  {
   "cell_type": "code",
   "execution_count": null,
   "metadata": {},
   "outputs": [],
   "source": [
    "# Do they overlap?\n",
    "shape.overlaps(shape2)"
   ]
  },
  {
   "cell_type": "code",
   "execution_count": null,
   "metadata": {},
   "outputs": [],
   "source": [
    "# Distance between centroids (again, in decimal degrees)\n",
    "shape.centroid.distance(shape2.centroid)"
   ]
  },
  {
   "cell_type": "code",
   "execution_count": null,
   "metadata": {},
   "outputs": [],
   "source": [
    "shape.intersection(shape2.buffer(0.5))"
   ]
  },
  {
   "attachments": {
    "image.png": {
     "image/png": "[encoded data removed]"
    }
   },
   "cell_type": "markdown",
   "metadata": {},
   "source": [
    "Check out the [Shapely user manual](https://toblerity.org/shapely/manual.html) for the full overview.\n",
    "\n",
    "![image.png](attachment:image.png)"
   ]
  },
  {
   "cell_type": "markdown",
   "metadata": {},
   "source": [
    "### Writing vector data\n",
    "\n",
    "Once we've processed (or created from scratch) a Feature collection, we can save it out to a file. Fiona can write to a number of different vector file formats. Let's save our Italy feature to a new feature collection backed by an ESRI Shapefile."
   ]
  },
  {
   "cell_type": "code",
   "execution_count": null,
   "metadata": {},
   "outputs": [],
   "source": [
    "with fiona.open('/tmp/italy.shp', mode='w', **profile) as shp:\n",
    "    shp.write(country)"
   ]
  },
  {
   "cell_type": "markdown",
   "metadata": {},
   "source": [
    "### More resources\n",
    "\n",
    "* https://toblerity.org/shapely/manual.html\n",
    "* [pyproj](https://jswhit.github.io/pyproj/) for working with projections"
   ]
  },
  {
   "cell_type": "markdown",
   "metadata": {},
   "source": [
    "## Working with Raster Data\n",
    "\n",
    "### The raster data model\n",
    "\n",
    "Raster data represents the world as a continuous surface divided into a regular grid of square pixels. Raster models are useful for data such as e.g. imagery, weather and elevation."
   ]
  },
  {
   "cell_type": "markdown",
   "metadata": {},
   "source": [
    "### Reading raster data\n",
    "\n",
    "**Rasterio** (pronounced \"*rast-air-ee-oh*\") is our mechanism for accessing Raster data in Python. Under the hood, Rasterio leverages the proven [GDAL](https://gdal.org) library.\n",
    "\n",
    "> Geographic information systems use GeoTIFF and other formats to organize and store gridded, or raster, datasets. Rasterio reads and writes these formats and provides a Python API based on N-D arrays.\n",
    "\n",
    "\n",
    "We'll use Rasterio to read the current annual precipitation data from ESRI Grid files"
   ]
  },
  {
   "cell_type": "code",
   "execution_count": null,
   "metadata": {},
   "outputs": [],
   "source": [
    "# Read grids into numpy arrays and store the profile\n",
    "with rasterio.open('data/precip_current/precip_current.tif') as src:\n",
    "    current_precip = src.read(1, masked=True)\n",
    "    profile = src.profile"
   ]
  },
  {
   "cell_type": "markdown",
   "metadata": {},
   "source": [
    "The `profile` contains the essential metadata for the raster dataset; things like the height, width, cell size and spatial referencing that are necessary to relate the data to the Earth."
   ]
  },
  {
   "cell_type": "code",
   "execution_count": null,
   "metadata": {},
   "outputs": [],
   "source": [
    "profile"
   ]
  },
  {
   "cell_type": "markdown",
   "metadata": {},
   "source": [
    "### Working with Numpy Arrays"
   ]
  },
  {
   "cell_type": "markdown",
   "metadata": {},
   "source": [
    "The resulting `current_precip` dataset is a **numpy** array, a standard data type that is widely used across the many scientific fields which have adopted Python. Let's take some time to see what we can do with numpy arrays:"
   ]
  },
  {
   "cell_type": "code",
   "execution_count": null,
   "metadata": {},
   "outputs": [],
   "source": [
    "# inspect numpy array's shape\n",
    "current_precip.shape"
   ]
  },
  {
   "cell_type": "code",
   "execution_count": null,
   "metadata": {},
   "outputs": [],
   "source": [
    "# Clip out a subset of the data\n",
    "current_precip[400:406, 6820:6826]"
   ]
  },
  {
   "cell_type": "code",
   "execution_count": null,
   "metadata": {},
   "outputs": [],
   "source": [
    "# Basic Maths\n",
    "current_precip_inches = current_precip / 25.4\n",
    "current_precip_inches[400:406, 6820:6826]"
   ]
  },
  {
   "cell_type": "code",
   "execution_count": null,
   "metadata": {},
   "outputs": [],
   "source": [
    "current_precip_inches.min(), current_precip_inches.max()"
   ]
  },
  {
   "cell_type": "code",
   "execution_count": null,
   "metadata": {},
   "outputs": [],
   "source": [
    "plt.hist(current_precip_inches.flatten(), bins=40)"
   ]
  },
  {
   "cell_type": "markdown",
   "metadata": {},
   "source": [
    "We can plot the raster in the notebook using imshow"
   ]
  },
  {
   "cell_type": "code",
   "execution_count": null,
   "metadata": {},
   "outputs": [],
   "source": [
    "figure(figsize = (12,6))\n",
    "from matplotlib.colors import LogNorm, SymLogNorm\n",
    "\n",
    "imshow(current_precip, cmap='Spectral', norm=LogNorm())\n",
    "title('Present Annual Precipitation (mm)')\n",
    "colorbar()"
   ]
  },
  {
   "cell_type": "markdown",
   "metadata": {},
   "source": [
    "### Calculating precipitation change\n",
    "\n",
    "We can load data from a climate model and compare it to present day precipitation to calculate the predicted change in precipitation.\n",
    "\n",
    "The data come from the [CCSM4](http://www.cesm.ucar.edu/models/ccsm4.0/) climate model for the year 2070 under the RCP 6.0 scenario. A rigourous study of climate change would consider these details in far more depth; for the purposes of this workshop, we'll just call it \"Future precipitation\" and make the assumption that this is reasonable model.\n",
    "\n",
    "The data comes in GeoTiff format. Let's load it up with Rasterio."
   ]
  },
  {
   "cell_type": "code",
   "execution_count": null,
   "metadata": {},
   "outputs": [],
   "source": [
    "with rasterio.open('data/precip_2070/precip_cc_2070_rcp60.tif') as src:\n",
    "    future_profile = src.profile\n",
    "    future_precip = src.read(1, masked=True)"
   ]
  },
  {
   "cell_type": "code",
   "execution_count": null,
   "metadata": {},
   "outputs": [],
   "source": [
    "# gut check to ensure the raster grids are aligned\n",
    "future_precip.shape == current_precip.shape"
   ]
  },
  {
   "cell_type": "markdown",
   "metadata": {},
   "source": [
    "We can calculate the raw difference between the grids as a measure of precipation change"
   ]
  },
  {
   "cell_type": "code",
   "execution_count": null,
   "metadata": {},
   "outputs": [],
   "source": [
    "change_precip = future_precip - current_precip"
   ]
  },
  {
   "cell_type": "code",
   "execution_count": null,
   "metadata": {},
   "outputs": [],
   "source": [
    "# plot\n",
    "figure(figsize = (12,6))\n",
    "imshow(change_precip, cmap='Spectral', norm=SymLogNorm(linthresh=0.03))\n",
    "title('Change in Precipitation CCSM4 RCP 6.0, present to 2070 (mm)')\n",
    "colorbar()"
   ]
  },
  {
   "cell_type": "markdown",
   "metadata": {},
   "source": [
    "### Writing raster data\n",
    "\n",
    "Once we have created an array containing our new/derived data, we can save it out to a Raster data format.\n",
    "\n",
    "Since we haven't changed the size, shape or spatial referencing of the array, we can reference the original `profile` metadata when creating a new file. But instead of saving to an ESRI Grid, we can output a GeoTiff which has wider support across many software implementations."
   ]
  },
  {
   "cell_type": "code",
   "execution_count": null,
   "metadata": {},
   "outputs": [],
   "source": [
    "with rasterio.open('/tmp/precip_change.tif', mode='w', **profile) as dst:\n",
    "    dst.write(change_precip, 1)"
   ]
  },
  {
   "cell_type": "markdown",
   "metadata": {},
   "source": [
    "### More resources\n",
    "\n",
    "* **Rasterio** provides interesting spatial functionality that is outside the scope of this workshop but may be required for other analyses. Check out the [Rasterio Manual](https://mapbox.github.io/rasterio/) for more."
   ]
  },
  {
   "cell_type": "markdown",
   "metadata": {},
   "source": [
    "## Working with Tabular Data\n",
    "\n",
    "Spreadsheets and other forms of non-spatial data play a significant role in many GIS projects. Commonly, we'll\n",
    "need to aggregate and filter data, create summary statistics and join the results with other datasets. This is where the GIS world overlaps significantly with the emerging field of \"Data Science\".\n",
    "\n",
    "**Pandas** is the tool of choice for Python data scientists. Pandas can load spreadsheets, csvs and other structured datasets into an abstraction called the **Data Frame** which provides high-level methods for many common data analyses."
   ]
  },
  {
   "cell_type": "markdown",
   "metadata": {},
   "source": [
    "### Reading tabular data\n",
    "\n",
    "Pandas can load standard table formats like Excel and CSV.\n",
    "\n",
    "The **GeoPandas** extension lets you use GIS formats as well, effectively treating your vector features as rows in a spreadsheet, with `geometry` being a special column for the spatial data.\n",
    "\n",
    "Let's load this directly into a pandas geodata frame. Note: there are similar methods for reading Excel files, SQL databases, etc."
   ]
  },
  {
   "cell_type": "code",
   "execution_count": null,
   "metadata": {},
   "outputs": [],
   "source": [
    "gdf = geopandas.read_file(\"data/countries/ne_50m_admin_0_countries.shp\")\n",
    "gdf.columns"
   ]
  },
  {
   "cell_type": "markdown",
   "metadata": {},
   "source": [
    "Calculate a new column"
   ]
  },
  {
   "cell_type": "code",
   "execution_count": null,
   "metadata": {},
   "outputs": [],
   "source": [
    "gdf['GDP_PER_CAPITA'] = gdf.GDP_MD_EST * 1000000 / gdf.POP_EST"
   ]
  },
  {
   "cell_type": "markdown",
   "metadata": {},
   "source": [
    "Calculate using shapely operations on the geometry"
   ]
  },
  {
   "cell_type": "code",
   "execution_count": null,
   "metadata": {},
   "outputs": [],
   "source": [
    "gdf['CENTER_LAT'] = gdf.geometry.centroid.y\n",
    "gdf['CENTER_LAT'].hist()"
   ]
  },
  {
   "cell_type": "markdown",
   "metadata": {},
   "source": [
    "We can use a plotting library like [Seaborn](https://seaborn.pydata.org/) to do some exploratory visualization of the non-spatial relationships within the data."
   ]
  },
  {
   "cell_type": "code",
   "execution_count": null,
   "metadata": {},
   "outputs": [],
   "source": [
    "seaborn.jointplot(\"GDP_PER_CAPITA\", \"CENTER_LAT\", data=gdf, dropna=True)"
   ]
  },
  {
   "cell_type": "markdown",
   "metadata": {},
   "source": [
    "### More resources\n",
    "\n",
    "* Pandas: https://pandas.pydata.org/index.html\n",
    "* GeoPandas: http://geopandas.org/\n",
    "* Statistical models: https://www.statsmodels.org/stable/index.html\n",
    "* Plotting: the python visualization landscape: https://www.youtube.com/watch?v=FytuB8nFHPQ"
   ]
  },
  {
   "cell_type": "markdown",
   "metadata": {},
   "source": [
    "## Geospatial Analysis\n",
    "\n",
    "Now that we've seen how to handle vector, raster and tabular data in Python, we can move into Analysis. IN this example we'll use our country dataset as spatial units to aggregate the precipitation change data. We can do this using a technique called **zonal statistics** to bridge the gap between the raster and vector data models.\n"
   ]
  },
  {
   "cell_type": "code",
   "execution_count": null,
   "metadata": {},
   "outputs": [],
   "source": [
    "?rasterstats.gen_zonal_stats"
   ]
  },
  {
   "cell_type": "code",
   "execution_count": null,
   "metadata": {},
   "outputs": [],
   "source": [
    "precip_delta = rasterstats.zonal_stats(gdf, '/tmp/precip_change.tif', prefix='pr_delta_', all_touched=True)"
   ]
  },
  {
   "cell_type": "code",
   "execution_count": null,
   "metadata": {},
   "outputs": [],
   "source": [
    "precip_delta[106]"
   ]
  },
  {
   "cell_type": "markdown",
   "metadata": {},
   "source": [
    "Join the precipitation data back to the original GeoDataFrame, creating a new version"
   ]
  },
  {
   "cell_type": "code",
   "execution_count": null,
   "metadata": {},
   "outputs": [],
   "source": [
    "calc_gdf = gdf.join(pandas.DataFrame(precip_delta))"
   ]
  },
  {
   "cell_type": "markdown",
   "metadata": {},
   "source": [
    "The zonal statistics are available as properties on the Features. For instance, the mean annual precipitation change for Italy is projected to be..."
   ]
  },
  {
   "cell_type": "code",
   "execution_count": null,
   "metadata": {},
   "outputs": [],
   "source": [
    "# Compare precipitation change to latitude\n",
    "seaborn.jointplot(\"pr_delta_mean\", \"CENTER_LAT\", data=calc_gdf)"
   ]
  },
  {
   "cell_type": "markdown",
   "metadata": {},
   "source": [
    "GeoPandas has some built in plotting features for doing choropleth maps."
   ]
  },
  {
   "cell_type": "code",
   "execution_count": null,
   "metadata": {},
   "outputs": [],
   "source": [
    "calc_gdf.plot(column='pr_delta_mean', cmap='RdYlBu', scheme='quantiles', legend=True)"
   ]
  },
  {
   "cell_type": "markdown",
   "metadata": {},
   "source": [
    "Plot the features in an interactive map. Because we're trying to show the magnitude of change within a spatial unit, using a graduated circle for the centroid of the country might be a more effective method to show our data.\n",
    "\n",
    "First we can calculate a new `centroid` geometry column"
   ]
  },
  {
   "cell_type": "code",
   "execution_count": null,
   "metadata": {},
   "outputs": [],
   "source": [
    "calc_gdf['centroid'] = calc_gdf.geometry.representative_point()\n",
    "centroid_gdf = calc_gdf.set_geometry('centroid')\n",
    "\n",
    "# Remove the old geometry column and extraneous columns\n",
    "keep = ['pr_delta_mean', 'CENTER_LAT', 'GDP_PER_CAPITA', 'NAME']\n",
    "\n",
    "collection = {\n",
    "    'type': 'FeatureCollection',\n",
    "    'features': []\n",
    "}\n",
    "for f in centroid_gdf.__geo_interface__['features']:\n",
    "    new_properties = {}\n",
    "    for k, v in f['properties'].items():      \n",
    "        if k in keep:\n",
    "            new_properties[k] = v\n",
    "    f['properties'] = new_properties\n",
    "    collection['features'].append(f)"
   ]
  },
  {
   "cell_type": "markdown",
   "metadata": {},
   "source": [
    "Then set up the classification (quantiles) and plot it"
   ]
  },
  {
   "cell_type": "code",
   "execution_count": null,
   "metadata": {},
   "outputs": [],
   "source": [
    "from mapboxgl.utils import create_radius_stops, create_color_stops\n",
    "from mapboxgl.viz import GraduatedCircleViz\n",
    "\n",
    "token = 'pk.eyJ1IjoicGVycnlnZW8iLCJhIjoiY2o2MTFlYjFsMHIzbjJxbW93M2YzY2VqdiJ9.BczmcdVkwAXfjmp-yr91kA'\n",
    "measure = 'pr_delta_mean'\n",
    "\n",
    "# Generate radius breaks from data domain and circle-radius range\n",
    "radius_breaks = [round(centroid_gdf['GDP_PER_CAPITA'].quantile(q=x*0.1), 2) for x in range(1,9)]\n",
    "radius_stops = create_radius_stops(radius_breaks, 5, 10)\n",
    "\n",
    "# Generate data breaks using numpy quantiles and color stops from colorBrewer\n",
    "color_breaks = [round(centroid_gdf[measure].quantile(q=x*0.1), 2) for x in range(1,9)]\n",
    "color_stops = create_color_stops(color_breaks, colors='RdYlBu')\n",
    "\n",
    "# Create the viz\n",
    "viz = GraduatedCircleViz(\n",
    "    collection, \n",
    "    height='400px',\n",
    "    access_token=token,\n",
    "    radius_property='GDP_PER_CAPITA',\n",
    "    radius_stops=radius_stops,\n",
    "    color_property=measure,\n",
    "    color_stops=color_stops,\n",
    "    center=(0, 0),\n",
    "    zoom=0,\n",
    "    opacity=0.75)\n",
    "\n",
    "with open('_viz.html', 'w') as fh:\n",
    "    fh.write(viz.create_html())\n",
    "\n",
    "width = '900px'\n",
    "height = '500px'\n",
    "from IPython.core.display import HTML, display\n",
    "display(HTML(f'<iframe id=\"plot\" src=\"_viz.html\" style=\"width: {width}; height: {height};\"></iframe>'))"
   ]
  },
  {
   "cell_type": "markdown",
   "metadata": {},
   "source": [
    "### More resources\n",
    "\n",
    "* GeoPandas docs have some good examples of overlay analysis: https://geopandas.readthedocs.io/en/latest/set_operations.html\n",
    "* See the GeoPandas example notebooks: https://github.com/geopandas/geopandas/wiki/Notebooks\n",
    "* MapboxGL Jupyter examples: https://nbviewer.jupyter.org/github/mapbox/mapboxgl-jupyter/blob/master/examples/point-viz-types-example.ipynb"
   ]
  },
  {
   "cell_type": "markdown",
   "metadata": {},
   "source": [
    "## Web services\n",
    "\n",
    "Until this point in the workshop, we've been dealing with data and analyses directly in our notebook. For many types of questions, the volume of data and the processing required to handle it are too expensive to undertake as a one-off analyis. Consider tasks such as **geocoding** or **driving directions** - these require carefully curated points of interest and road network datasets respectively, plus the infrastructure to handle the analysis.\n",
    "\n",
    "Mapbox provides access to such data and infrastructure using **web services**, allowing us to make HTTP requests which handle the details and return results quickly. To access them via Python, we can use the Mapbox Python SDK.\n",
    "\n",
    "Note: This requires a Mapbox account token. See https://www.mapbox.com/account/\n",
    "\n",
    "For example, we could geocode a list of addresses and collect the results as vector Features."
   ]
  },
  {
   "cell_type": "code",
   "execution_count": null,
   "metadata": {},
   "outputs": [],
   "source": [
    "addresses = [\n",
    "    '1201 Central Drive, Fort Collins, CO 80521, USA', # Morgan Library\n",
    "    '510 S College Ave, Fort Collins, CO 80524, USA'   # Big City Burrito\n",
    "]\n",
    "\n",
    "geocoder = mapbox.Geocoder(access_token=token)\n",
    "\n",
    "features = []\n",
    "for addr in addresses:\n",
    "    feature = geocoder.forward(addr).geojson()['features'][0]\n",
    "    features.append(feature)"
   ]
  },
  {
   "cell_type": "markdown",
   "metadata": {},
   "source": [
    "Another use case for web services is publishing. For example, Mapbox provides an **Uploads** web service to publish vector and raster datasets as Mapbox Vector Tiles (MVT) for use in web mapping applications."
   ]
  }
 ],
 "metadata": {
  "kernelspec": {
   "display_name": "Python 3",
   "language": "python",
   "name": "python3"
  },
  "language_info": {
   "codemirror_mode": {
    "name": "ipython",
    "version": 3
   },
   "file_extension": ".py",
   "mimetype": "text/x-python",
   "name": "python",
   "nbconvert_exporter": "python",
   "pygments_lexer": "ipython3",
   "version": "3.6.4"
  }
 },
 "nbformat": 4,
 "nbformat_minor": 2
}
